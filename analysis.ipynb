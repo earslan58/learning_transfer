{
  "cells": [
    {
      "cell_type": "code",
      "execution_count": 1,
      "metadata": {
        "id": "U-YSSZoCOCoO"
      },
      "outputs": [],
      "source": [
        "import warnings\n",
        "warnings.filterwarnings(\"ignore\")"
      ]
    },
    {
      "cell_type": "code",
      "execution_count": 2,
      "metadata": {
        "id": "z4LQaPk-OCoP"
      },
      "outputs": [],
      "source": [
        "import pandas as pd\n",
        "import numpy as np\n",
        "from imblearn.under_sampling import RandomUnderSampler\n",
        "from sklearn.ensemble import RandomForestClassifier\n",
        "from sklearn.model_selection import train_test_split\n",
        "from sklearn import metrics\n",
        "from sklearn.pipeline import make_pipeline\n",
        "from sklearn.preprocessing import StandardScaler, PowerTransformer\n",
        "from sklearn.model_selection import cross_val_score\n",
        "import matplotlib.pyplot as plt\n",
        "import seaborn as sns"
      ]
    },
    {
      "cell_type": "code",
      "execution_count": 30,
      "metadata": {
        "id": "QX0lgo55OCoP"
      },
      "outputs": [],
      "source": [
        "root = \"gdrive/MyDrive/learning_transfer/\"\n",
        "data_root = root+\"transfer_logs/\"\n",
        "sns.set()"
      ]
    },
    {
      "cell_type": "code",
      "execution_count": 20,
      "metadata": {
        "id": "GIQ5M2F1OCoP"
      },
      "outputs": [],
      "source": [
        "\"\"\"\n",
        "Expanse >>  From TACC to SDSC (rtt: 58ms)\n",
        "Chameleon >>  From TACC to UC (rtt: 32ms)\n",
        "Labels\n",
        "Code <> Name\n",
        "1    <> Normal\n",
        "2    <> Duplicate\n",
        "3    <> Reorder\n",
        "4    <> Corrupt\n",
        "5    <> Loss\n",
        "6    <> Jitter\n",
        "\"\"\"\n",
        "\n",
        "bws = {\n",
        "    \"expanse\": [1000],\n",
        "    \"chameleon\": [1000],\n",
        "}\n",
        "\n",
        "\n",
        "rtts = {\n",
        "    \"expanse\": [60],\n",
        "    \"chameleon\": [35],\n",
        "}\n",
        "\n",
        "cc_algos = [\"cubic\", \"htcp\", \"bbr\"]\n",
        "feature_file = root+\"ss_7_features.csv\"\n",
        "labels = [1,2,3,4,5,6]\n",
        "\n",
        "features = pd.read_csv(feature_file)\n",
        "feature_list = list(features.feature.values)"
      ]
    },
    {
      "cell_type": "code",
      "execution_count": 21,
      "metadata": {
        "id": "KdwbLpyrOCoP"
      },
      "outputs": [],
      "source": [
        "def read_file(env, transform=True):\n",
        "    global data\n",
        "\n",
        "    for cc_algo in cc_algos:\n",
        "        folder = \"{0}/sslog_ps/{1}/\".format(env, cc_algo)\n",
        "\n",
        "        for bw in bws[env]:\n",
        "            for rtt in rtts[env]:\n",
        "                combo = \"b{0}d{1}\".format(bw,rtt)\n",
        "                df = pd.read_csv(data_root+\"{0}/{1}.csv\".format(folder, combo))\n",
        "                df = df.sort_values(by=['label']).reset_index().drop(columns=[\"index\"])\n",
        "                df = df[df.label.isin(labels)]\n",
        "                df.fillna(df.groupby(['label'], as_index=False).mean(), inplace=True)\n",
        "\n",
        "                if transform:\n",
        "                    for index, row in features.iterrows():\n",
        "#                         if \"rtt\" in row['normalizer']:\n",
        "#                             df[row['feature']] = df[row['feature']] / rtt\n",
        "\n",
        "#                         else:\n",
        "                        df[row['feature']] = df[row['feature']] / df[row['normalizer']]\n",
        "\n",
        "                df.replace([np.inf, -np.inf, np.nan], 0, inplace=True)\n",
        "                if cc_algo not in data[env]:\n",
        "                    data[env][cc_algo] = {}\n",
        "\n",
        "                data[env][cc_algo][combo] = df"
      ]
    },
    {
      "cell_type": "code",
      "execution_count": 22,
      "metadata": {
        "id": "oa46K9lfOCoQ"
      },
      "outputs": [],
      "source": [
        "def feature_score(env, transform=True, size=0.8):\n",
        "    clfs = []\n",
        "    read_file(env, transform)\n",
        "    for cc_algo in cc_algos:\n",
        "        print(\"CC Algorithms: {0}\".format(cc_algo))\n",
        "        results = []\n",
        "        score = {}\n",
        "        for bw in bws[env]:\n",
        "            for rtt in rtts[env]:\n",
        "                combo = \"b{0}d{1}\".format(bw,rtt)\n",
        "                df = data[env][cc_algo][combo].copy()\n",
        "                df = df[df.report_sec == 10]\n",
        "                y = df.label\n",
        "                X = df[feature_list]#.drop(columns=\"label\") #\n",
        "                X_train, X_test, y_train, y_test = train_test_split(X,y, train_size=size)\n",
        "                X_train, y_train = RandomUnderSampler(sampling_strategy=\"all\").fit_resample(X_train, y_train)\n",
        "#                 clf = make_pipeline(PowerTransformer(), RandomForestClassifier(n_estimators=100))\n",
        "                clf = RandomForestClassifier(n_estimators=100)\n",
        "                clf.fit(X_train, y_train)\n",
        "                clfs.append(clf)\n",
        "                y_pred = clf.predict(X_test)\n",
        "                accuracy = np.round(metrics.accuracy_score(y_test, y_pred) * 100, 2)\n",
        "                f1_score = np.round(metrics.f1_score(y_test, y_pred, average='micro')* 100,2)\n",
        "                results.append(f1_score)\n",
        "#                 print(metrics.confusion_matrix(y_test, y_pred))\n",
        "                imp = np.round(clf.feature_importances_,2)\n",
        "                columns = X.columns\n",
        "\n",
        "                for i in range(len(columns)):\n",
        "                    score[columns[i]] = [imp[i]]\n",
        "\n",
        "        print(\"Sample Size: {0}, Average: {1}, Stdv: {2}\".format(size, np.round(np.mean(results), 2),\n",
        "                                                                 np.round(np.std(results), 2)))\n",
        "        print(\"Importance Score:\")\n",
        "        for key in score:\n",
        "            print(\"\\t{0}: {1}\".format(key, np.round(np.mean(score[key]), 2)))\n",
        "        print()\n",
        "#     return clfs"
      ]
    },
    {
      "cell_type": "code",
      "execution_count": 27,
      "metadata": {
        "id": "9aRyBBpuOCoQ"
      },
      "outputs": [],
      "source": [
        "def tl_evaluate(env1, env2, t_limit=10, verbose=True, file=None):\n",
        "    for cc_algo in cc_algos:\n",
        "        print(\"CC Algorithms: {0}\".format(cc_algo))\n",
        "        total = []\n",
        "        for bw in bws[env1]:\n",
        "            for rtt in rtts[env1]:\n",
        "                train = \"b{0}d{1}\".format(bw,rtt)\n",
        "                df = data[env1][cc_algo][train].copy()\n",
        "                df = df[df.report_sec == 10]\n",
        "                y = df.label\n",
        "                X = df[feature_list]\n",
        "                clf = make_pipeline(PowerTransformer(), RandomForestClassifier(n_estimators=100))\n",
        "                clf.fit(X, y)\n",
        "                results = []\n",
        "\n",
        "                for bw1 in bws[env2]:\n",
        "                    for rtt1 in rtts[env2]:\n",
        "                        combo = \"b{0}d{1}\".format(bw1,rtt1)\n",
        "                        if train == combo:\n",
        "                            continue\n",
        "\n",
        "                        if rtt1 != 0:\n",
        "                            df = data[env2][cc_algo][combo].copy()\n",
        "                            df = df[df.report_sec == t_limit]\n",
        "                            y = df.label\n",
        "                            X = df[feature_list]\n",
        "                            y_pred = clf.predict(X)\n",
        "                            accuracy = np.round(metrics.accuracy_score(y, y_pred)* 100,2)\n",
        "                            f_score = np.round(metrics.f1_score(y, y_pred, average='micro')* 100,2)\n",
        "                            precision = np.round(metrics.precision_score(y, y_pred, average='weighted')* 100,2)\n",
        "                            recall = np.round(metrics.recall_score(y, y_pred, average='weighted')* 100,2)\n",
        "\n",
        "                            results.append(f_score)\n",
        "                            total.append(results[-1])\n",
        "                            if file is not None:\n",
        "                                msg = \"{0},{1},{2},{3},{4},{5},{6}\\n\".format(env1,env2,train,combo,cc_algo,\n",
        "                                                                                 t_limit,f_score)\n",
        "                                file.write(msg)\n",
        "\n",
        "#                             print(\"{0},{1},{2},{3},{4},{5}\".format(train, combo, accuracy, f_score, precision, recall))\n",
        "\n",
        "                if verbose:\n",
        "                    print(train, np.round(np.mean(results), 2), np.round(np.std(results), 2), results)\n",
        "\n",
        "\n",
        "        print(\"\\tAverage:{0}\\n\\tStd Dev: {1}\\n\".format(np.round(np.mean(total), 2), np.round(np.std(total), 2)))"
      ]
    },
    {
      "cell_type": "markdown",
      "metadata": {
        "id": "mISmqrLOOCoQ"
      },
      "source": [
        "# Before Transformation Applied"
      ]
    },
    {
      "cell_type": "code",
      "execution_count": 28,
      "metadata": {
        "id": "KCwGRiamOCoR"
      },
      "outputs": [],
      "source": [
        "data = {\n",
        "    \"chameleon\": {},\n",
        "    \"expanse\": {}\n",
        "}"
      ]
    },
    {
      "cell_type": "markdown",
      "metadata": {
        "id": "lwSP8RgJOCoR"
      },
      "source": [
        "### Chameleon"
      ]
    },
    {
      "cell_type": "code",
      "execution_count": 31,
      "metadata": {
        "id": "YK3_3eK8OCoS",
        "outputId": "de72ee2d-0795-4598-d2b1-f3321272f97a",
        "colab": {
          "base_uri": "https://localhost:8080/"
        }
      },
      "outputs": [
        {
          "output_type": "stream",
          "name": "stdout",
          "text": [
            "CC Algorithms: cubic\n",
            "Sample Size: 0.8, Average: 99.44, Stdv: 0.0\n",
            "Importance Score:\n",
            "\tminrtt: 0.2\n",
            "\trtt_std: 0.04\n",
            "\tunacked: 0.12\n",
            "\tssthresh: 0.14\n",
            "\tretrans: 0.14\n",
            "\tdsack_dups: 0.14\n",
            "\treord_seen: 0.19\n",
            "\tnotsent: 0.03\n",
            "\n",
            "CC Algorithms: htcp\n",
            "Sample Size: 0.8, Average: 97.78, Stdv: 0.0\n",
            "Importance Score:\n",
            "\tminrtt: 0.17\n",
            "\trtt_std: 0.04\n",
            "\tunacked: 0.19\n",
            "\tssthresh: 0.05\n",
            "\tretrans: 0.16\n",
            "\tdsack_dups: 0.16\n",
            "\treord_seen: 0.21\n",
            "\tnotsent: 0.04\n",
            "\n",
            "CC Algorithms: bbr\n",
            "Sample Size: 0.8, Average: 99.26, Stdv: 0.0\n",
            "Importance Score:\n",
            "\tminrtt: 0.2\n",
            "\trtt_std: 0.06\n",
            "\tunacked: 0.02\n",
            "\tssthresh: 0.12\n",
            "\tretrans: 0.19\n",
            "\tdsack_dups: 0.16\n",
            "\treord_seen: 0.24\n",
            "\tnotsent: 0.01\n",
            "\n"
          ]
        }
      ],
      "source": [
        "testbed = \"chameleon\"\n",
        "feature_score(testbed, transform=False)"
      ]
    },
    {
      "cell_type": "markdown",
      "metadata": {
        "id": "4FzxNIpDOCoS"
      },
      "source": [
        "### Expanse"
      ]
    },
    {
      "cell_type": "code",
      "execution_count": 32,
      "metadata": {
        "id": "eLC07qwHOCoS",
        "outputId": "00230f1d-bf68-4d04-9c94-768ce51040ff",
        "colab": {
          "base_uri": "https://localhost:8080/"
        }
      },
      "outputs": [
        {
          "output_type": "stream",
          "name": "stdout",
          "text": [
            "CC Algorithms: cubic\n",
            "Sample Size: 0.8, Average: 97.22, Stdv: 0.0\n",
            "Importance Score:\n",
            "\tminrtt: 0.22\n",
            "\trtt_std: 0.05\n",
            "\tunacked: 0.12\n",
            "\tssthresh: 0.05\n",
            "\tretrans: 0.13\n",
            "\tdsack_dups: 0.18\n",
            "\treord_seen: 0.2\n",
            "\tnotsent: 0.05\n",
            "\n",
            "CC Algorithms: htcp\n",
            "Sample Size: 0.8, Average: 95.37, Stdv: 0.0\n",
            "Importance Score:\n",
            "\tminrtt: 0.21\n",
            "\trtt_std: 0.05\n",
            "\tunacked: 0.1\n",
            "\tssthresh: 0.14\n",
            "\tretrans: 0.12\n",
            "\tdsack_dups: 0.12\n",
            "\treord_seen: 0.15\n",
            "\tnotsent: 0.11\n",
            "\n",
            "CC Algorithms: bbr\n",
            "Sample Size: 0.8, Average: 97.96, Stdv: 0.0\n",
            "Importance Score:\n",
            "\tminrtt: 0.21\n",
            "\trtt_std: 0.1\n",
            "\tunacked: 0.02\n",
            "\tssthresh: 0.09\n",
            "\tretrans: 0.21\n",
            "\tdsack_dups: 0.19\n",
            "\treord_seen: 0.17\n",
            "\tnotsent: 0.01\n",
            "\n"
          ]
        }
      ],
      "source": [
        "testbed = \"expanse\"\n",
        "feature_score(testbed, transform=False)"
      ]
    },
    {
      "cell_type": "markdown",
      "metadata": {
        "id": "kfH8uikqOCoT"
      },
      "source": [
        "## Same Network"
      ]
    },
    {
      "cell_type": "code",
      "execution_count": 33,
      "metadata": {
        "colab": {
          "base_uri": "https://localhost:8080/"
        },
        "id": "lZn7Q8UOOCoT",
        "outputId": "e5d46858-694b-48a2-a15f-26fa071c98eb"
      },
      "outputs": [
        {
          "output_type": "stream",
          "name": "stdout",
          "text": [
            "expanse cubic\n",
            "\t b1000d60 [0.92 0.91 0.94 0.95 0.92 0.9  0.89 0.93 0.99 0.93]\n",
            "\t Average: 0.93, Std dev: 0.03\n",
            "expanse htcp\n",
            "\t b1000d60 [0.95 0.95 0.96 0.93 0.96 0.97 0.97 0.98 0.97 0.98]\n",
            "\t Average: 0.96, Std dev: 0.01\n",
            "expanse bbr\n",
            "\t b1000d60 [0.98 0.93 0.99 0.95 0.94 1.   0.92 1.   0.92 0.99]\n",
            "\t Average: 0.96, Std dev: 0.03\n",
            "chameleon cubic\n",
            "\t b1000d35 [0.97 0.98 0.98 0.96 0.96 0.99 0.98 0.99 0.98 0.98]\n",
            "\t Average: 0.98, Std dev: 0.01\n",
            "chameleon htcp\n",
            "\t b1000d35 [0.97 0.98 0.97 0.97 0.99 0.99 0.98 0.99 0.99 0.98]\n",
            "\t Average: 0.98, Std dev: 0.01\n",
            "chameleon bbr\n",
            "\t b1000d35 [0.99 1.   1.   0.99 0.98 1.   1.   1.   1.   1.  ]\n",
            "\t Average: 1.0, Std dev: 0.01\n"
          ]
        }
      ],
      "source": [
        "for env in bws:\n",
        "    for cc_algo in cc_algos:\n",
        "        print(env, cc_algo)\n",
        "        for bw in bws[env]:\n",
        "            for rtt in rtts[env]:\n",
        "                train = \"b{0}d{1}\".format(bw,rtt)\n",
        "                df = data[env][cc_algo][train].copy()\n",
        "                df = df[df.report_sec == 10]\n",
        "                y = df.label\n",
        "                X = df[feature_list]\n",
        "                clf = make_pipeline(PowerTransformer(), RandomForestClassifier(n_estimators=100))\n",
        "                cv_res = np.round(cross_val_score(clf, X, y, cv=10),2)\n",
        "\n",
        "                print(\"\\t\", train, cv_res)\n",
        "                print(\"\\t Average: {0}, Std dev: {1}\".format(np.round(np.mean(cv_res), 2),\n",
        "                                                            np.round(np.std(cv_res), 2)))\n",
        ""
      ]
    },
    {
      "cell_type": "markdown",
      "metadata": {
        "id": "LQFPD2CCOCoT"
      },
      "source": [
        "## Transfer Learning"
      ]
    },
    {
      "cell_type": "markdown",
      "metadata": {
        "id": "ZYQP3r7kOCoT"
      },
      "source": [
        "### Expanse to Chameleon"
      ]
    },
    {
      "cell_type": "code",
      "execution_count": 26,
      "metadata": {
        "id": "Uxu4bZoHOCoT",
        "outputId": "9b1f4555-b9ed-4211-cfe4-38b3ca8cb3de",
        "colab": {
          "base_uri": "https://localhost:8080/",
          "height": 232
        }
      },
      "outputs": [
        {
          "output_type": "stream",
          "name": "stdout",
          "text": [
            "Repeat: 1\n"
          ]
        },
        {
          "output_type": "error",
          "ename": "NameError",
          "evalue": "ignored",
          "traceback": [
            "\u001b[0;31m---------------------------------------------------------------------------\u001b[0m",
            "\u001b[0;31mNameError\u001b[0m                                 Traceback (most recent call last)",
            "\u001b[0;32m<ipython-input-26-6344998ba239>\u001b[0m in \u001b[0;36m<cell line: 1>\u001b[0;34m()\u001b[0m\n\u001b[1;32m      1\u001b[0m \u001b[0;32mfor\u001b[0m \u001b[0mi\u001b[0m \u001b[0;32min\u001b[0m \u001b[0mrange\u001b[0m\u001b[0;34m(\u001b[0m\u001b[0;36m2\u001b[0m\u001b[0;34m)\u001b[0m\u001b[0;34m:\u001b[0m\u001b[0;34m\u001b[0m\u001b[0;34m\u001b[0m\u001b[0m\n\u001b[1;32m      2\u001b[0m     \u001b[0mprint\u001b[0m\u001b[0;34m(\u001b[0m\u001b[0;34m\"Repeat: {0}\"\u001b[0m\u001b[0;34m.\u001b[0m\u001b[0mformat\u001b[0m\u001b[0;34m(\u001b[0m\u001b[0mi\u001b[0m\u001b[0;34m+\u001b[0m\u001b[0;36m1\u001b[0m\u001b[0;34m)\u001b[0m\u001b[0;34m)\u001b[0m\u001b[0;34m\u001b[0m\u001b[0;34m\u001b[0m\u001b[0m\n\u001b[0;32m----> 3\u001b[0;31m     \u001b[0mtl_evaluate\u001b[0m\u001b[0;34m(\u001b[0m\u001b[0;34m\"expanse\"\u001b[0m\u001b[0;34m,\u001b[0m \u001b[0;34m\"chameleon\"\u001b[0m\u001b[0;34m)\u001b[0m\u001b[0;34m\u001b[0m\u001b[0;34m\u001b[0m\u001b[0m\n\u001b[0m",
            "\u001b[0;31mNameError\u001b[0m: name 'tl_evaluate' is not defined"
          ]
        }
      ],
      "source": [
        "for i in range(2):\n",
        "    print(\"Repeat: {0}\".format(i+1))\n",
        "    tl_evaluate(\"expanse\", \"chameleon\")"
      ]
    },
    {
      "cell_type": "code",
      "execution_count": null,
      "metadata": {
        "id": "GSLajBnsOCoT"
      },
      "outputs": [],
      "source": [
        "### Chameleon to Expanse"
      ]
    },
    {
      "cell_type": "code",
      "execution_count": null,
      "metadata": {
        "id": "-5EvYNOkOCoT",
        "outputId": "142e704e-80e9-458b-c157-b287cac2be7e"
      },
      "outputs": [
        {
          "name": "stdout",
          "output_type": "stream",
          "text": [
            "Repeat: 1\n",
            "CC Algorithms: cubic\n",
            "b1000d35 56.89 0.0 [56.89]\n",
            "\tAverage:56.89\n",
            "\tStd Dev: 0.0\n",
            "\n",
            "CC Algorithms: htcp\n",
            "b1000d35 68.63 0.0 [68.63]\n",
            "\tAverage:68.63\n",
            "\tStd Dev: 0.0\n",
            "\n",
            "CC Algorithms: bbr\n",
            "b1000d35 70.52 0.0 [70.52]\n",
            "\tAverage:70.52\n",
            "\tStd Dev: 0.0\n",
            "\n",
            "Repeat: 2\n",
            "CC Algorithms: cubic\n",
            "b1000d35 57.52 0.0 [57.52]\n",
            "\tAverage:57.52\n",
            "\tStd Dev: 0.0\n",
            "\n",
            "CC Algorithms: htcp\n",
            "b1000d35 63.15 0.0 [63.15]\n",
            "\tAverage:63.15\n",
            "\tStd Dev: 0.0\n",
            "\n",
            "CC Algorithms: bbr\n",
            "b1000d35 79.11 0.0 [79.11]\n",
            "\tAverage:79.11\n",
            "\tStd Dev: 0.0\n",
            "\n"
          ]
        }
      ],
      "source": [
        "for i in range(2):\n",
        "    print(\"Repeat: {0}\".format(i+1))\n",
        "    tl_evaluate(\"chameleon\", \"expanse\")"
      ]
    },
    {
      "cell_type": "markdown",
      "metadata": {
        "id": "naf0lY3ZOCoT"
      },
      "source": [
        "# After Transformation Applied"
      ]
    },
    {
      "cell_type": "code",
      "execution_count": null,
      "metadata": {
        "id": "GwgPov09OCoT"
      },
      "outputs": [],
      "source": [
        "data = {\n",
        "    \"chameleon\": {},\n",
        "    \"expanse\": {}\n",
        "}"
      ]
    },
    {
      "cell_type": "markdown",
      "metadata": {
        "id": "kOUom_YMOCoT"
      },
      "source": [
        "### Chameleon"
      ]
    },
    {
      "cell_type": "code",
      "execution_count": null,
      "metadata": {
        "id": "x1NxKXw0OCoT",
        "outputId": "6c2fa5b1-f864-4269-8da0-f44802d5106e"
      },
      "outputs": [
        {
          "name": "stdout",
          "output_type": "stream",
          "text": [
            "CC Algorithms: cubic\n",
            "Sample Size: 0.8, Average: 94.26, Stdv: 0.0\n",
            "Importance Score:\n",
            "\tminrtt: 0.19\n",
            "\trtt_std: 0.04\n",
            "\tunacked: 0.05\n",
            "\tssthresh: 0.1\n",
            "\tretrans: 0.15\n",
            "\tdsack_dups: 0.16\n",
            "\treord_seen: 0.2\n",
            "\tnotsent: 0.1\n",
            "\n",
            "CC Algorithms: htcp\n",
            "Sample Size: 0.8, Average: 94.63, Stdv: 0.0\n",
            "Importance Score:\n",
            "\tminrtt: 0.19\n",
            "\trtt_std: 0.04\n",
            "\tunacked: 0.04\n",
            "\tssthresh: 0.1\n",
            "\tretrans: 0.12\n",
            "\tdsack_dups: 0.17\n",
            "\treord_seen: 0.22\n",
            "\tnotsent: 0.12\n",
            "\n",
            "CC Algorithms: bbr\n",
            "Sample Size: 0.8, Average: 99.26, Stdv: 0.0\n",
            "Importance Score:\n",
            "\tminrtt: 0.21\n",
            "\trtt_std: 0.03\n",
            "\tunacked: 0.07\n",
            "\tssthresh: 0.14\n",
            "\tretrans: 0.18\n",
            "\tdsack_dups: 0.17\n",
            "\treord_seen: 0.19\n",
            "\tnotsent: 0.01\n",
            "\n"
          ]
        }
      ],
      "source": [
        "testbed = \"chameleon\"\n",
        "feature_score(testbed, transform=True)"
      ]
    },
    {
      "cell_type": "markdown",
      "metadata": {
        "id": "72WRMeXKOCoT"
      },
      "source": [
        "### Expanse"
      ]
    },
    {
      "cell_type": "code",
      "execution_count": 25,
      "metadata": {
        "id": "I2s-z5r4OCoT",
        "outputId": "b7a55190-fd90-4859-9703-a00c90c33a3c",
        "colab": {
          "base_uri": "https://localhost:8080/",
          "height": 346
        }
      },
      "outputs": [
        {
          "output_type": "error",
          "ename": "FileNotFoundError",
          "evalue": "ignored",
          "traceback": [
            "\u001b[0;31m---------------------------------------------------------------------------\u001b[0m",
            "\u001b[0;31mFileNotFoundError\u001b[0m                         Traceback (most recent call last)",
            "\u001b[0;32m<ipython-input-25-6b490aae7bca>\u001b[0m in \u001b[0;36m<cell line: 2>\u001b[0;34m()\u001b[0m\n\u001b[1;32m      1\u001b[0m \u001b[0mtestbed\u001b[0m \u001b[0;34m=\u001b[0m \u001b[0;34m\"expanse\"\u001b[0m\u001b[0;34m\u001b[0m\u001b[0;34m\u001b[0m\u001b[0m\n\u001b[0;32m----> 2\u001b[0;31m \u001b[0mfeature_score\u001b[0m\u001b[0;34m(\u001b[0m\u001b[0mtestbed\u001b[0m\u001b[0;34m,\u001b[0m \u001b[0mtransform\u001b[0m\u001b[0;34m=\u001b[0m\u001b[0;32mTrue\u001b[0m\u001b[0;34m)\u001b[0m\u001b[0;34m\u001b[0m\u001b[0;34m\u001b[0m\u001b[0m\n\u001b[0m",
            "\u001b[0;32m<ipython-input-22-60e7e3290a63>\u001b[0m in \u001b[0;36mfeature_score\u001b[0;34m(env, transform, size)\u001b[0m\n\u001b[1;32m      1\u001b[0m \u001b[0;32mdef\u001b[0m \u001b[0mfeature_score\u001b[0m\u001b[0;34m(\u001b[0m\u001b[0menv\u001b[0m\u001b[0;34m,\u001b[0m \u001b[0mtransform\u001b[0m\u001b[0;34m=\u001b[0m\u001b[0;32mTrue\u001b[0m\u001b[0;34m,\u001b[0m \u001b[0msize\u001b[0m\u001b[0;34m=\u001b[0m\u001b[0;36m0.8\u001b[0m\u001b[0;34m)\u001b[0m\u001b[0;34m:\u001b[0m\u001b[0;34m\u001b[0m\u001b[0;34m\u001b[0m\u001b[0m\n\u001b[1;32m      2\u001b[0m     \u001b[0mclfs\u001b[0m \u001b[0;34m=\u001b[0m \u001b[0;34m[\u001b[0m\u001b[0;34m]\u001b[0m\u001b[0;34m\u001b[0m\u001b[0;34m\u001b[0m\u001b[0m\n\u001b[0;32m----> 3\u001b[0;31m     \u001b[0mread_file\u001b[0m\u001b[0;34m(\u001b[0m\u001b[0menv\u001b[0m\u001b[0;34m,\u001b[0m \u001b[0mtransform\u001b[0m\u001b[0;34m)\u001b[0m\u001b[0;34m\u001b[0m\u001b[0;34m\u001b[0m\u001b[0m\n\u001b[0m\u001b[1;32m      4\u001b[0m     \u001b[0;32mfor\u001b[0m \u001b[0mcc_algo\u001b[0m \u001b[0;32min\u001b[0m \u001b[0mcc_algos\u001b[0m\u001b[0;34m:\u001b[0m\u001b[0;34m\u001b[0m\u001b[0;34m\u001b[0m\u001b[0m\n\u001b[1;32m      5\u001b[0m         \u001b[0mprint\u001b[0m\u001b[0;34m(\u001b[0m\u001b[0;34m\"CC Algorithms: {0}\"\u001b[0m\u001b[0;34m.\u001b[0m\u001b[0mformat\u001b[0m\u001b[0;34m(\u001b[0m\u001b[0mcc_algo\u001b[0m\u001b[0;34m)\u001b[0m\u001b[0;34m)\u001b[0m\u001b[0;34m\u001b[0m\u001b[0;34m\u001b[0m\u001b[0m\n",
            "\u001b[0;32m<ipython-input-21-b251aab53530>\u001b[0m in \u001b[0;36mread_file\u001b[0;34m(env, transform)\u001b[0m\n\u001b[1;32m      8\u001b[0m             \u001b[0;32mfor\u001b[0m \u001b[0mrtt\u001b[0m \u001b[0;32min\u001b[0m \u001b[0mrtts\u001b[0m\u001b[0;34m[\u001b[0m\u001b[0menv\u001b[0m\u001b[0;34m]\u001b[0m\u001b[0;34m:\u001b[0m\u001b[0;34m\u001b[0m\u001b[0;34m\u001b[0m\u001b[0m\n\u001b[1;32m      9\u001b[0m                 \u001b[0mcombo\u001b[0m \u001b[0;34m=\u001b[0m \u001b[0;34m\"b{0}d{1}\"\u001b[0m\u001b[0;34m.\u001b[0m\u001b[0mformat\u001b[0m\u001b[0;34m(\u001b[0m\u001b[0mbw\u001b[0m\u001b[0;34m,\u001b[0m\u001b[0mrtt\u001b[0m\u001b[0;34m)\u001b[0m\u001b[0;34m\u001b[0m\u001b[0;34m\u001b[0m\u001b[0m\n\u001b[0;32m---> 10\u001b[0;31m                 \u001b[0mdf\u001b[0m \u001b[0;34m=\u001b[0m \u001b[0mpd\u001b[0m\u001b[0;34m.\u001b[0m\u001b[0mread_csv\u001b[0m\u001b[0;34m(\u001b[0m\u001b[0mdata_root\u001b[0m\u001b[0;34m+\u001b[0m\u001b[0;34m\"{0}/{1}.csv\"\u001b[0m\u001b[0;34m.\u001b[0m\u001b[0mformat\u001b[0m\u001b[0;34m(\u001b[0m\u001b[0mfolder\u001b[0m\u001b[0;34m,\u001b[0m \u001b[0mcombo\u001b[0m\u001b[0;34m)\u001b[0m\u001b[0;34m)\u001b[0m\u001b[0;34m\u001b[0m\u001b[0;34m\u001b[0m\u001b[0m\n\u001b[0m\u001b[1;32m     11\u001b[0m                 \u001b[0mdf\u001b[0m \u001b[0;34m=\u001b[0m \u001b[0mdf\u001b[0m\u001b[0;34m.\u001b[0m\u001b[0msort_values\u001b[0m\u001b[0;34m(\u001b[0m\u001b[0mby\u001b[0m\u001b[0;34m=\u001b[0m\u001b[0;34m[\u001b[0m\u001b[0;34m'label'\u001b[0m\u001b[0;34m]\u001b[0m\u001b[0;34m)\u001b[0m\u001b[0;34m.\u001b[0m\u001b[0mreset_index\u001b[0m\u001b[0;34m(\u001b[0m\u001b[0;34m)\u001b[0m\u001b[0;34m.\u001b[0m\u001b[0mdrop\u001b[0m\u001b[0;34m(\u001b[0m\u001b[0mcolumns\u001b[0m\u001b[0;34m=\u001b[0m\u001b[0;34m[\u001b[0m\u001b[0;34m\"index\"\u001b[0m\u001b[0;34m]\u001b[0m\u001b[0;34m)\u001b[0m\u001b[0;34m\u001b[0m\u001b[0;34m\u001b[0m\u001b[0m\n\u001b[1;32m     12\u001b[0m                 \u001b[0mdf\u001b[0m \u001b[0;34m=\u001b[0m \u001b[0mdf\u001b[0m\u001b[0;34m[\u001b[0m\u001b[0mdf\u001b[0m\u001b[0;34m.\u001b[0m\u001b[0mlabel\u001b[0m\u001b[0;34m.\u001b[0m\u001b[0misin\u001b[0m\u001b[0;34m(\u001b[0m\u001b[0mlabels\u001b[0m\u001b[0;34m)\u001b[0m\u001b[0;34m]\u001b[0m\u001b[0;34m\u001b[0m\u001b[0;34m\u001b[0m\u001b[0m\n",
            "\u001b[0;32m/usr/local/lib/python3.10/dist-packages/pandas/util/_decorators.py\u001b[0m in \u001b[0;36mwrapper\u001b[0;34m(*args, **kwargs)\u001b[0m\n\u001b[1;32m    209\u001b[0m                 \u001b[0;32melse\u001b[0m\u001b[0;34m:\u001b[0m\u001b[0;34m\u001b[0m\u001b[0;34m\u001b[0m\u001b[0m\n\u001b[1;32m    210\u001b[0m                     \u001b[0mkwargs\u001b[0m\u001b[0;34m[\u001b[0m\u001b[0mnew_arg_name\u001b[0m\u001b[0;34m]\u001b[0m \u001b[0;34m=\u001b[0m \u001b[0mnew_arg_value\u001b[0m\u001b[0;34m\u001b[0m\u001b[0;34m\u001b[0m\u001b[0m\n\u001b[0;32m--> 211\u001b[0;31m             \u001b[0;32mreturn\u001b[0m \u001b[0mfunc\u001b[0m\u001b[0;34m(\u001b[0m\u001b[0;34m*\u001b[0m\u001b[0margs\u001b[0m\u001b[0;34m,\u001b[0m \u001b[0;34m**\u001b[0m\u001b[0mkwargs\u001b[0m\u001b[0;34m)\u001b[0m\u001b[0;34m\u001b[0m\u001b[0;34m\u001b[0m\u001b[0m\n\u001b[0m\u001b[1;32m    212\u001b[0m \u001b[0;34m\u001b[0m\u001b[0m\n\u001b[1;32m    213\u001b[0m         \u001b[0;32mreturn\u001b[0m \u001b[0mcast\u001b[0m\u001b[0;34m(\u001b[0m\u001b[0mF\u001b[0m\u001b[0;34m,\u001b[0m \u001b[0mwrapper\u001b[0m\u001b[0;34m)\u001b[0m\u001b[0;34m\u001b[0m\u001b[0;34m\u001b[0m\u001b[0m\n",
            "\u001b[0;32m/usr/local/lib/python3.10/dist-packages/pandas/util/_decorators.py\u001b[0m in \u001b[0;36mwrapper\u001b[0;34m(*args, **kwargs)\u001b[0m\n\u001b[1;32m    329\u001b[0m                     \u001b[0mstacklevel\u001b[0m\u001b[0;34m=\u001b[0m\u001b[0mfind_stack_level\u001b[0m\u001b[0;34m(\u001b[0m\u001b[0;34m)\u001b[0m\u001b[0;34m,\u001b[0m\u001b[0;34m\u001b[0m\u001b[0;34m\u001b[0m\u001b[0m\n\u001b[1;32m    330\u001b[0m                 )\n\u001b[0;32m--> 331\u001b[0;31m             \u001b[0;32mreturn\u001b[0m \u001b[0mfunc\u001b[0m\u001b[0;34m(\u001b[0m\u001b[0;34m*\u001b[0m\u001b[0margs\u001b[0m\u001b[0;34m,\u001b[0m \u001b[0;34m**\u001b[0m\u001b[0mkwargs\u001b[0m\u001b[0;34m)\u001b[0m\u001b[0;34m\u001b[0m\u001b[0;34m\u001b[0m\u001b[0m\n\u001b[0m\u001b[1;32m    332\u001b[0m \u001b[0;34m\u001b[0m\u001b[0m\n\u001b[1;32m    333\u001b[0m         \u001b[0;31m# error: \"Callable[[VarArg(Any), KwArg(Any)], Any]\" has no\u001b[0m\u001b[0;34m\u001b[0m\u001b[0;34m\u001b[0m\u001b[0m\n",
            "\u001b[0;32m/usr/local/lib/python3.10/dist-packages/pandas/io/parsers/readers.py\u001b[0m in \u001b[0;36mread_csv\u001b[0;34m(filepath_or_buffer, sep, delimiter, header, names, index_col, usecols, squeeze, prefix, mangle_dupe_cols, dtype, engine, converters, true_values, false_values, skipinitialspace, skiprows, skipfooter, nrows, na_values, keep_default_na, na_filter, verbose, skip_blank_lines, parse_dates, infer_datetime_format, keep_date_col, date_parser, dayfirst, cache_dates, iterator, chunksize, compression, thousands, decimal, lineterminator, quotechar, quoting, doublequote, escapechar, comment, encoding, encoding_errors, dialect, error_bad_lines, warn_bad_lines, on_bad_lines, delim_whitespace, low_memory, memory_map, float_precision, storage_options)\u001b[0m\n\u001b[1;32m    948\u001b[0m     \u001b[0mkwds\u001b[0m\u001b[0;34m.\u001b[0m\u001b[0mupdate\u001b[0m\u001b[0;34m(\u001b[0m\u001b[0mkwds_defaults\u001b[0m\u001b[0;34m)\u001b[0m\u001b[0;34m\u001b[0m\u001b[0;34m\u001b[0m\u001b[0m\n\u001b[1;32m    949\u001b[0m \u001b[0;34m\u001b[0m\u001b[0m\n\u001b[0;32m--> 950\u001b[0;31m     \u001b[0;32mreturn\u001b[0m \u001b[0m_read\u001b[0m\u001b[0;34m(\u001b[0m\u001b[0mfilepath_or_buffer\u001b[0m\u001b[0;34m,\u001b[0m \u001b[0mkwds\u001b[0m\u001b[0;34m)\u001b[0m\u001b[0;34m\u001b[0m\u001b[0;34m\u001b[0m\u001b[0m\n\u001b[0m\u001b[1;32m    951\u001b[0m \u001b[0;34m\u001b[0m\u001b[0m\n\u001b[1;32m    952\u001b[0m \u001b[0;34m\u001b[0m\u001b[0m\n",
            "\u001b[0;32m/usr/local/lib/python3.10/dist-packages/pandas/io/parsers/readers.py\u001b[0m in \u001b[0;36m_read\u001b[0;34m(filepath_or_buffer, kwds)\u001b[0m\n\u001b[1;32m    603\u001b[0m \u001b[0;34m\u001b[0m\u001b[0m\n\u001b[1;32m    604\u001b[0m     \u001b[0;31m# Create the parser.\u001b[0m\u001b[0;34m\u001b[0m\u001b[0;34m\u001b[0m\u001b[0m\n\u001b[0;32m--> 605\u001b[0;31m     \u001b[0mparser\u001b[0m \u001b[0;34m=\u001b[0m \u001b[0mTextFileReader\u001b[0m\u001b[0;34m(\u001b[0m\u001b[0mfilepath_or_buffer\u001b[0m\u001b[0;34m,\u001b[0m \u001b[0;34m**\u001b[0m\u001b[0mkwds\u001b[0m\u001b[0;34m)\u001b[0m\u001b[0;34m\u001b[0m\u001b[0;34m\u001b[0m\u001b[0m\n\u001b[0m\u001b[1;32m    606\u001b[0m \u001b[0;34m\u001b[0m\u001b[0m\n\u001b[1;32m    607\u001b[0m     \u001b[0;32mif\u001b[0m \u001b[0mchunksize\u001b[0m \u001b[0;32mor\u001b[0m \u001b[0miterator\u001b[0m\u001b[0;34m:\u001b[0m\u001b[0;34m\u001b[0m\u001b[0;34m\u001b[0m\u001b[0m\n",
            "\u001b[0;32m/usr/local/lib/python3.10/dist-packages/pandas/io/parsers/readers.py\u001b[0m in \u001b[0;36m__init__\u001b[0;34m(self, f, engine, **kwds)\u001b[0m\n\u001b[1;32m   1440\u001b[0m \u001b[0;34m\u001b[0m\u001b[0m\n\u001b[1;32m   1441\u001b[0m         \u001b[0mself\u001b[0m\u001b[0;34m.\u001b[0m\u001b[0mhandles\u001b[0m\u001b[0;34m:\u001b[0m \u001b[0mIOHandles\u001b[0m \u001b[0;34m|\u001b[0m \u001b[0;32mNone\u001b[0m \u001b[0;34m=\u001b[0m \u001b[0;32mNone\u001b[0m\u001b[0;34m\u001b[0m\u001b[0;34m\u001b[0m\u001b[0m\n\u001b[0;32m-> 1442\u001b[0;31m         \u001b[0mself\u001b[0m\u001b[0;34m.\u001b[0m\u001b[0m_engine\u001b[0m \u001b[0;34m=\u001b[0m \u001b[0mself\u001b[0m\u001b[0;34m.\u001b[0m\u001b[0m_make_engine\u001b[0m\u001b[0;34m(\u001b[0m\u001b[0mf\u001b[0m\u001b[0;34m,\u001b[0m \u001b[0mself\u001b[0m\u001b[0;34m.\u001b[0m\u001b[0mengine\u001b[0m\u001b[0;34m)\u001b[0m\u001b[0;34m\u001b[0m\u001b[0;34m\u001b[0m\u001b[0m\n\u001b[0m\u001b[1;32m   1443\u001b[0m \u001b[0;34m\u001b[0m\u001b[0m\n\u001b[1;32m   1444\u001b[0m     \u001b[0;32mdef\u001b[0m \u001b[0mclose\u001b[0m\u001b[0;34m(\u001b[0m\u001b[0mself\u001b[0m\u001b[0;34m)\u001b[0m \u001b[0;34m->\u001b[0m \u001b[0;32mNone\u001b[0m\u001b[0;34m:\u001b[0m\u001b[0;34m\u001b[0m\u001b[0;34m\u001b[0m\u001b[0m\n",
            "\u001b[0;32m/usr/local/lib/python3.10/dist-packages/pandas/io/parsers/readers.py\u001b[0m in \u001b[0;36m_make_engine\u001b[0;34m(self, f, engine)\u001b[0m\n\u001b[1;32m   1733\u001b[0m                 \u001b[0;32mif\u001b[0m \u001b[0;34m\"b\"\u001b[0m \u001b[0;32mnot\u001b[0m \u001b[0;32min\u001b[0m \u001b[0mmode\u001b[0m\u001b[0;34m:\u001b[0m\u001b[0;34m\u001b[0m\u001b[0;34m\u001b[0m\u001b[0m\n\u001b[1;32m   1734\u001b[0m                     \u001b[0mmode\u001b[0m \u001b[0;34m+=\u001b[0m \u001b[0;34m\"b\"\u001b[0m\u001b[0;34m\u001b[0m\u001b[0;34m\u001b[0m\u001b[0m\n\u001b[0;32m-> 1735\u001b[0;31m             self.handles = get_handle(\n\u001b[0m\u001b[1;32m   1736\u001b[0m                 \u001b[0mf\u001b[0m\u001b[0;34m,\u001b[0m\u001b[0;34m\u001b[0m\u001b[0;34m\u001b[0m\u001b[0m\n\u001b[1;32m   1737\u001b[0m                 \u001b[0mmode\u001b[0m\u001b[0;34m,\u001b[0m\u001b[0;34m\u001b[0m\u001b[0;34m\u001b[0m\u001b[0m\n",
            "\u001b[0;32m/usr/local/lib/python3.10/dist-packages/pandas/io/common.py\u001b[0m in \u001b[0;36mget_handle\u001b[0;34m(path_or_buf, mode, encoding, compression, memory_map, is_text, errors, storage_options)\u001b[0m\n\u001b[1;32m    854\u001b[0m         \u001b[0;32mif\u001b[0m \u001b[0mioargs\u001b[0m\u001b[0;34m.\u001b[0m\u001b[0mencoding\u001b[0m \u001b[0;32mand\u001b[0m \u001b[0;34m\"b\"\u001b[0m \u001b[0;32mnot\u001b[0m \u001b[0;32min\u001b[0m \u001b[0mioargs\u001b[0m\u001b[0;34m.\u001b[0m\u001b[0mmode\u001b[0m\u001b[0;34m:\u001b[0m\u001b[0;34m\u001b[0m\u001b[0;34m\u001b[0m\u001b[0m\n\u001b[1;32m    855\u001b[0m             \u001b[0;31m# Encoding\u001b[0m\u001b[0;34m\u001b[0m\u001b[0;34m\u001b[0m\u001b[0m\n\u001b[0;32m--> 856\u001b[0;31m             handle = open(\n\u001b[0m\u001b[1;32m    857\u001b[0m                 \u001b[0mhandle\u001b[0m\u001b[0;34m,\u001b[0m\u001b[0;34m\u001b[0m\u001b[0;34m\u001b[0m\u001b[0m\n\u001b[1;32m    858\u001b[0m                 \u001b[0mioargs\u001b[0m\u001b[0;34m.\u001b[0m\u001b[0mmode\u001b[0m\u001b[0;34m,\u001b[0m\u001b[0;34m\u001b[0m\u001b[0;34m\u001b[0m\u001b[0m\n",
            "\u001b[0;31mFileNotFoundError\u001b[0m: [Errno 2] No such file or directory: 'transfer_logs/expanse/sslog_ps/cubic//b1000d60.csv'"
          ]
        }
      ],
      "source": [
        "testbed = \"expanse\"\n",
        "feature_score(testbed, transform=True)"
      ]
    },
    {
      "cell_type": "markdown",
      "metadata": {
        "id": "tOU473qeOCoT"
      },
      "source": [
        "### Same Network"
      ]
    },
    {
      "cell_type": "code",
      "execution_count": null,
      "metadata": {
        "id": "DKfhcgpDOCoT",
        "outputId": "f5e0425f-df8f-401b-9797-dc9ba95319c5"
      },
      "outputs": [
        {
          "name": "stdout",
          "output_type": "stream",
          "text": [
            "expanse cubic\n",
            "\t b1000d60 [0.89 0.93 0.94 0.89 0.91 0.89 0.91 0.91 0.94 0.95]\n",
            "\t Average: 0.92, Std dev: 0.02\n",
            "expanse htcp\n",
            "\t b1000d60 [0.92 0.93 0.94 0.92 0.93 0.96 0.96 0.97 0.97 0.94]\n",
            "\t Average: 0.94, Std dev: 0.02\n",
            "expanse bbr\n",
            "\t b1000d60 [0.97 0.99 0.99 0.96 0.96 0.99 0.98 0.99 0.98 0.98]\n",
            "\t Average: 0.98, Std dev: 0.01\n",
            "chameleon cubic\n",
            "\t b1000d35 [0.93 0.93 0.96 0.94 0.91 0.95 0.96 0.94 0.95 0.94]\n",
            "\t Average: 0.94, Std dev: 0.01\n",
            "chameleon htcp\n",
            "\t b1000d35 [0.91 0.94 0.92 0.94 0.94 0.95 0.94 0.94 0.93 0.94]\n",
            "\t Average: 0.94, Std dev: 0.01\n",
            "chameleon bbr\n",
            "\t b1000d35 [0.99 1.   1.   0.98 0.97 0.99 1.   1.   0.99 0.99]\n",
            "\t Average: 0.99, Std dev: 0.01\n"
          ]
        }
      ],
      "source": [
        "for env in bws:\n",
        "    for cc_algo in cc_algos:\n",
        "        print(env, cc_algo)\n",
        "        for bw in bws[env]:\n",
        "            for rtt in rtts[env]:\n",
        "                train = \"b{0}d{1}\".format(bw,rtt)\n",
        "                df = data[env][cc_algo][train].copy()\n",
        "                df = df[df.report_sec == 10]\n",
        "                y = df.label\n",
        "                X = df[feature_list]\n",
        "                clf = make_pipeline(PowerTransformer(), RandomForestClassifier(n_estimators=100))\n",
        "                cv_res = np.round(cross_val_score(clf, X, y, cv=10),2)\n",
        "\n",
        "                print(\"\\t\", train, cv_res)\n",
        "                print(\"\\t Average: {0}, Std dev: {1}\".format(np.round(np.mean(cv_res), 2),\n",
        "                                                            np.round(np.std(cv_res), 2)))\n",
        ""
      ]
    },
    {
      "cell_type": "markdown",
      "metadata": {
        "id": "D9YL_uLROCoT"
      },
      "source": [
        "### Chameleon to Expanse"
      ]
    },
    {
      "cell_type": "code",
      "execution_count": null,
      "metadata": {
        "id": "gt8RaEPuOCoT",
        "outputId": "693cda88-6e87-4f8b-8f6e-d055da0dfdc5"
      },
      "outputs": [
        {
          "name": "stdout",
          "output_type": "stream",
          "text": [
            "Repeat: 1\n",
            "CC Algorithms: cubic\n",
            "b1000d35 82.59 0.0 [82.59]\n",
            "\tAverage:82.59\n",
            "\tStd Dev: 0.0\n",
            "\n",
            "CC Algorithms: htcp\n",
            "b1000d35 86.19 0.0 [86.19]\n",
            "\tAverage:86.19\n",
            "\tStd Dev: 0.0\n",
            "\n",
            "CC Algorithms: bbr\n",
            "b1000d35 94.33 0.0 [94.33]\n",
            "\tAverage:94.33\n",
            "\tStd Dev: 0.0\n",
            "\n",
            "Repeat: 2\n",
            "CC Algorithms: cubic\n",
            "b1000d35 82.7 0.0 [82.7]\n",
            "\tAverage:82.7\n",
            "\tStd Dev: 0.0\n",
            "\n",
            "CC Algorithms: htcp\n",
            "b1000d35 86.07 0.0 [86.07]\n",
            "\tAverage:86.07\n",
            "\tStd Dev: 0.0\n",
            "\n",
            "CC Algorithms: bbr\n",
            "b1000d35 94.48 0.0 [94.48]\n",
            "\tAverage:94.48\n",
            "\tStd Dev: 0.0\n",
            "\n"
          ]
        }
      ],
      "source": [
        "for i in range(2):\n",
        "    print(\"Repeat: {0}\".format(i+1))\n",
        "    tl_evaluate(\"chameleon\", \"expanse\")"
      ]
    },
    {
      "cell_type": "markdown",
      "metadata": {
        "id": "MJ9gF8g4OCoU"
      },
      "source": [
        "### Expanse to Chameleon"
      ]
    },
    {
      "cell_type": "code",
      "execution_count": null,
      "metadata": {
        "id": "1Nl8XavKOCoU",
        "outputId": "f20d4f0c-198c-492f-8d7e-c1ccffcba4d1"
      },
      "outputs": [
        {
          "name": "stdout",
          "output_type": "stream",
          "text": [
            "Repeat: 1\n",
            "CC Algorithms: cubic\n",
            "b1000d60 81.62 0.0 [81.62]\n",
            "\tAverage:81.62\n",
            "\tStd Dev: 0.0\n",
            "\n",
            "CC Algorithms: htcp\n",
            "b1000d60 76.52 0.0 [76.52]\n",
            "\tAverage:76.52\n",
            "\tStd Dev: 0.0\n",
            "\n",
            "CC Algorithms: bbr\n",
            "b1000d60 96.85 0.0 [96.85]\n",
            "\tAverage:96.85\n",
            "\tStd Dev: 0.0\n",
            "\n",
            "Repeat: 2\n",
            "CC Algorithms: cubic\n",
            "b1000d60 79.66 0.0 [79.66]\n",
            "\tAverage:79.66\n",
            "\tStd Dev: 0.0\n",
            "\n",
            "CC Algorithms: htcp\n",
            "b1000d60 83.67 0.0 [83.67]\n",
            "\tAverage:83.67\n",
            "\tStd Dev: 0.0\n",
            "\n",
            "CC Algorithms: bbr\n",
            "b1000d60 96.85 0.0 [96.85]\n",
            "\tAverage:96.85\n",
            "\tStd Dev: 0.0\n",
            "\n"
          ]
        }
      ],
      "source": [
        "for i in range(2):\n",
        "    print(\"Repeat: {0}\".format(i+1))\n",
        "    tl_evaluate(\"expanse\", \"chameleon\")"
      ]
    },
    {
      "cell_type": "markdown",
      "metadata": {
        "id": "iytU8RhUOCoU"
      },
      "source": [
        "## Why BBR data performs better than Cubic and HTCP?\n",
        "        Less ovelapping features values between Corrupt and Loss anomalies.\n",
        "        For example, here is a plot for packet retransmission rate"
      ]
    },
    {
      "cell_type": "code",
      "execution_count": 24,
      "metadata": {
        "id": "bBWSIxH8OCoU",
        "outputId": "c01e6e98-7ff3-4c6b-a518-0076251da290",
        "colab": {
          "base_uri": "https://localhost:8080/",
          "height": 986
        }
      },
      "outputs": [
        {
          "output_type": "error",
          "ename": "NameError",
          "evalue": "ignored",
          "traceback": [
            "\u001b[0;31m---------------------------------------------------------------------------\u001b[0m",
            "\u001b[0;31mNameError\u001b[0m                                 Traceback (most recent call last)",
            "\u001b[0;32m<ipython-input-24-db469c6d90f6>\u001b[0m in \u001b[0;36m<cell line: 7>\u001b[0;34m()\u001b[0m\n\u001b[1;32m      5\u001b[0m \u001b[0maxes\u001b[0m\u001b[0;34m[\u001b[0m\u001b[0;36m2\u001b[0m\u001b[0;34m]\u001b[0m\u001b[0;34m.\u001b[0m\u001b[0mset_title\u001b[0m\u001b[0;34m(\u001b[0m\u001b[0;34m'BBR'\u001b[0m\u001b[0;34m,\u001b[0m \u001b[0mfontsize\u001b[0m\u001b[0;34m=\u001b[0m\u001b[0;36m42\u001b[0m\u001b[0;34m,\u001b[0m \u001b[0mpad\u001b[0m\u001b[0;34m=\u001b[0m\u001b[0;36m20\u001b[0m\u001b[0;34m)\u001b[0m\u001b[0;34m\u001b[0m\u001b[0;34m\u001b[0m\u001b[0m\n\u001b[1;32m      6\u001b[0m \u001b[0;34m\u001b[0m\u001b[0m\n\u001b[0;32m----> 7\u001b[0;31m \u001b[0mdf\u001b[0m \u001b[0;34m=\u001b[0m \u001b[0mdata\u001b[0m\u001b[0;34m[\u001b[0m\u001b[0mnetwork\u001b[0m\u001b[0;34m]\u001b[0m\u001b[0;34m[\u001b[0m\u001b[0;34m\"cubic\"\u001b[0m\u001b[0;34m]\u001b[0m\u001b[0;34m[\u001b[0m\u001b[0mtestbed\u001b[0m\u001b[0;34m]\u001b[0m\u001b[0;34m.\u001b[0m\u001b[0mcopy\u001b[0m\u001b[0;34m(\u001b[0m\u001b[0;34m)\u001b[0m\u001b[0;34m\u001b[0m\u001b[0;34m\u001b[0m\u001b[0m\n\u001b[0m\u001b[1;32m      8\u001b[0m \u001b[0mdf\u001b[0m \u001b[0;34m=\u001b[0m \u001b[0mdf\u001b[0m\u001b[0;34m[\u001b[0m\u001b[0;34m(\u001b[0m\u001b[0mdf\u001b[0m\u001b[0;34m.\u001b[0m\u001b[0mreport_sec\u001b[0m\u001b[0;34m==\u001b[0m\u001b[0;36m10\u001b[0m\u001b[0;34m)\u001b[0m \u001b[0;34m&\u001b[0m \u001b[0;34m(\u001b[0m\u001b[0mdf\u001b[0m\u001b[0;34m.\u001b[0m\u001b[0mlabel\u001b[0m\u001b[0;34m.\u001b[0m\u001b[0misin\u001b[0m\u001b[0;34m(\u001b[0m\u001b[0;34m[\u001b[0m\u001b[0;36m4\u001b[0m\u001b[0;34m,\u001b[0m\u001b[0;36m5\u001b[0m\u001b[0;34m]\u001b[0m\u001b[0;34m)\u001b[0m\u001b[0;34m)\u001b[0m\u001b[0;34m]\u001b[0m\u001b[0;34m\u001b[0m\u001b[0;34m\u001b[0m\u001b[0m\n\u001b[1;32m      9\u001b[0m df.loc[:, \"label\"] = df.label.replace({\n",
            "\u001b[0;31mNameError\u001b[0m: name 'data' is not defined"
          ]
        },
        {
          "output_type": "display_data",
          "data": {
            "text/plain": [
              "<Figure size 1600x800 with 3 Axes>"
            ],
            "image/png": "[encoded data removed]"
          },
          "metadata": {}
        }
      ],
      "source": [
        "network, testbed = \"expanse\", \"b1000d60\"\n",
        "fig, axes = plt.subplots(1, 3, sharex=True, figsize=(16,8))\n",
        "axes[0].set_title('Cubic', fontsize=42, pad=20)\n",
        "axes[1].set_title('HTCP', fontsize=42, pad=20)\n",
        "axes[2].set_title('BBR', fontsize=42, pad=20)\n",
        "\n",
        "df = data[network][\"cubic\"][testbed].copy()\n",
        "df = df[(df.report_sec==10) & (df.label.isin([4,5]))]\n",
        "df.loc[:, \"label\"] = df.label.replace({\n",
        "    4: \"Corrupt\",\n",
        "    5: \"Loss\"\n",
        "})\n",
        "\n",
        "sns.boxplot(ax=axes[0], x=\"label\", y=\"retrans\", data=df)\n",
        "\n",
        "\n",
        "df = data[network][\"htcp\"][testbed].copy()\n",
        "df = df[(df.report_sec==10) & (df.label.isin([4,5]))]\n",
        "# df.retrans = np.round(df.retrans, 3)\n",
        "df.loc[:, \"label\"]  = df.label.replace({\n",
        "    4: \"Corrupt\",\n",
        "    5: \"Loss\"\n",
        "})\n",
        "\n",
        "sns.boxplot(ax=axes[1], x=\"label\", y=\"retrans\", data=df)\n",
        "\n",
        "\n",
        "df = data[network][\"bbr\"][testbed].copy()\n",
        "df = df[(df.report_sec==10) & (df.label.isin([4,5]))]\n",
        "# df.retrans = np.round(df.retrans, 3)\n",
        "df.loc[:, \"label\"]  = df.label.replace({\n",
        "    4: \"Corrupt\",\n",
        "    5: \"Loss\"\n",
        "})\n",
        "\n",
        "sns.boxplot(ax=axes[2], x=\"label\", y=\"retrans\", data=df)\n",
        "\n",
        "for i in range(len(axes)):\n",
        "    axes[i].set_ylabel(\"retrans\", fontsize=45, labelpad=12);\n",
        "    axes[i].set_xlabel(\"\", fontsize=40, labelpad=12)\n",
        "    axes[i].tick_params(axis='both', which='major', pad=12)\n",
        "    axes[i].tick_params(axis='y', which='major', labelsize=40)\n",
        "    axes[i].tick_params(axis='x', which='major', labelsize=40, rotation=60)\n",
        "    axes[i].set_yticks([0.00, 0.005, 0.010, 0.015])\n",
        "\n",
        "plt.tight_layout(pad=4)\n",
        "plt.show()"
      ]
    },
    {
      "cell_type": "code",
      "execution_count": null,
      "metadata": {
        "id": "MJDg25XTOCoU"
      },
      "outputs": [],
      "source": []
    }
  ],
  "metadata": {
    "kernelspec": {
      "display_name": "Python 3",
      "language": "python",
      "name": "python3"
    },
    "language_info": {
      "codemirror_mode": {
        "name": "ipython",
        "version": 3
      },
      "file_extension": ".py",
      "mimetype": "text/x-python",
      "name": "python",
      "nbconvert_exporter": "python",
      "pygments_lexer": "ipython3",
      "version": "3.8.5"
    },
    "colab": {
      "provenance": []
    }
  },
  "nbformat": 4,
  "nbformat_minor": 0
}